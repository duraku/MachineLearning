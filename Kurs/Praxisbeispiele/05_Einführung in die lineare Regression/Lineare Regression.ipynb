{
 "cells": [
  {
   "cell_type": "code",
   "execution_count": 4,
   "metadata": {},
   "outputs": [],
   "source": [
    "import pandas as pd\n",
    "\n",
    "df = pd.read_csv(\"wohnungspreise.csv\")"
   ]
  },
  {
   "cell_type": "markdown",
   "metadata": {},
   "source": [
    "df = Dataframe\n",
    "df.head öffnet nur die ersten Zeilen\n",
    "df öffnet die komplette Tabelle in der CSV Datei"
   ]
  },
  {
   "cell_type": "code",
   "execution_count": 8,
   "metadata": {
    "scrolled": true
   },
   "outputs": [
    {
     "data": {
      "text/html": [
       "<div>\n",
       "<style scoped>\n",
       "    .dataframe tbody tr th:only-of-type {\n",
       "        vertical-align: middle;\n",
       "    }\n",
       "\n",
       "    .dataframe tbody tr th {\n",
       "        vertical-align: top;\n",
       "    }\n",
       "\n",
       "    .dataframe thead th {\n",
       "        text-align: right;\n",
       "    }\n",
       "</style>\n",
       "<table border=\"1\" class=\"dataframe\">\n",
       "  <thead>\n",
       "    <tr style=\"text-align: right;\">\n",
       "      <th></th>\n",
       "      <th>Quadratmeter</th>\n",
       "      <th>Verkaufspreis</th>\n",
       "    </tr>\n",
       "  </thead>\n",
       "  <tbody>\n",
       "    <tr>\n",
       "      <td>0</td>\n",
       "      <td>70</td>\n",
       "      <td>351000</td>\n",
       "    </tr>\n",
       "    <tr>\n",
       "      <td>1</td>\n",
       "      <td>72</td>\n",
       "      <td>390000</td>\n",
       "    </tr>\n",
       "    <tr>\n",
       "      <td>2</td>\n",
       "      <td>91</td>\n",
       "      <td>473000</td>\n",
       "    </tr>\n",
       "    <tr>\n",
       "      <td>3</td>\n",
       "      <td>58</td>\n",
       "      <td>282000</td>\n",
       "    </tr>\n",
       "    <tr>\n",
       "      <td>4</td>\n",
       "      <td>49</td>\n",
       "      <td>300000</td>\n",
       "    </tr>\n",
       "  </tbody>\n",
       "</table>\n",
       "</div>"
      ],
      "text/plain": [
       "   Quadratmeter  Verkaufspreis\n",
       "0            70         351000\n",
       "1            72         390000\n",
       "2            91         473000\n",
       "3            58         282000\n",
       "4            49         300000"
      ]
     },
     "execution_count": 8,
     "metadata": {},
     "output_type": "execute_result"
    }
   ],
   "source": [
    "df.head()"
   ]
  },
  {
   "cell_type": "markdown",
   "metadata": {},
   "source": [
    "df[Spaltename] öffnet die gewünschte Spalte"
   ]
  },
  {
   "cell_type": "code",
   "execution_count": 11,
   "metadata": {},
   "outputs": [
    {
     "data": {
      "text/plain": [
       "0      70\n",
       "1      72\n",
       "2      91\n",
       "3      58\n",
       "4      49\n",
       "5      50\n",
       "6      48\n",
       "7      33\n",
       "8      61\n",
       "9      51\n",
       "10     78\n",
       "11     70\n",
       "12     35\n",
       "13     81\n",
       "14     70\n",
       "15     47\n",
       "16     55\n",
       "17     70\n",
       "18     89\n",
       "19     68\n",
       "20     42\n",
       "21     93\n",
       "22     54\n",
       "23     52\n",
       "24     72\n",
       "25     62\n",
       "26     65\n",
       "27     98\n",
       "28     39\n",
       "29     50\n",
       "30     62\n",
       "31     45\n",
       "32     11\n",
       "33     60\n",
       "34     60\n",
       "35     74\n",
       "36     64\n",
       "37     56\n",
       "38     71\n",
       "39     40\n",
       "40     76\n",
       "41     88\n",
       "42     55\n",
       "43     60\n",
       "44     79\n",
       "45    109\n",
       "46     51\n",
       "47     48\n",
       "48     25\n",
       "49     88\n",
       "Name: Quadratmeter, dtype: int64"
      ]
     },
     "execution_count": 11,
     "metadata": {},
     "output_type": "execute_result"
    }
   ],
   "source": [
    "df[\"Quadratmeter\"]"
   ]
  },
  {
   "cell_type": "markdown",
   "metadata": {},
   "source": [
    "%matplotlib inline ermöglicht, dass die Zeichnung direkt in Jupyter ausgeführt wird\n",
    "\n",
    "plt.scatter zeichnet ein Punktediagramm"
   ]
  },
  {
   "cell_type": "code",
   "execution_count": 12,
   "metadata": {},
   "outputs": [
    {
     "data": {
      "image/png": "[encoded data removed]",
      "text/plain": [
       "<Figure size 432x288 with 1 Axes>"
      ]
     },
     "metadata": {
      "needs_background": "light"
     },
     "output_type": "display_data"
    }
   ],
   "source": [
    "%matplotlib inline\n",
    "import matplotlib.pyplot as plt\n",
    "\n",
    "plt.scatter(df[\"Quadratmeter\"], df[\"Verkaufspreis\"])\n",
    "plt.show()"
   ]
  },
  {
   "cell_type": "markdown",
   "metadata": {},
   "source": [
    "Importieren des Paketes sklearn \n",
    "Paket erwartet doppelte Eckigeklammer als übergabeparameter der Spalten\n",
    "\n",
    "Parameter der Geradengleichung\n",
    "Intercept(b) = Konstante\n",
    "Coef(a)= Koeffizient\n",
    "\n",
    "y=ax+b "
   ]
  },
  {
   "cell_type": "code",
   "execution_count": 13,
   "metadata": {},
   "outputs": [
    {
     "name": "stdout",
     "output_type": "stream",
     "text": [
      "Intercept:[3143.28481869]\n",
      "Coef:[[5071.35242619]]\n"
     ]
    }
   ],
   "source": [
    "from sklearn.linear_model import LinearRegression\n",
    "\n",
    "model = LinearRegression()\n",
    "model.fit(df[[\"Quadratmeter\"]], df[[\"Verkaufspreis\"]])\n",
    "\n",
    "print(\"Intercept:\" + str(model.intercept_))\n",
    "print(\"Coef:\" + str(model.coef_))"
   ]
  },
  {
   "cell_type": "code",
   "execution_count": 14,
   "metadata": {},
   "outputs": [],
   "source": [
    "# Verkaufspreis = 3143.28481869 + 5071.35242619 * Quadratmeter\n",
    "# y = 3143.28481869 + 5071.35242619 * X"
   ]
  },
  {
   "cell_type": "code",
   "execution_count": 15,
   "metadata": {},
   "outputs": [
    {
     "name": "stdout",
     "output_type": "stream",
     "text": [
      "205997.38186629003\n"
     ]
    }
   ],
   "source": [
    "# Verkaufspreis einer 40qm Wohnung vorhersagen\n",
    "print(3143.28481869 + 5071.35242619 * 40)"
   ]
  },
  {
   "cell_type": "code",
   "execution_count": 17,
   "metadata": {},
   "outputs": [
    {
     "data": {
      "text/plain": [
       "array([[205997.38186639]])"
      ]
     },
     "execution_count": 17,
     "metadata": {},
     "output_type": "execute_result"
    }
   ],
   "source": [
    "# Verkaufspreis einer 40qm Wohnung vorhersagen mit dem Model\n",
    "model.predict([[40]])"
   ]
  },
  {
   "cell_type": "code",
   "execution_count": 21,
   "metadata": {},
   "outputs": [
    {
     "data": {
      "text/plain": [
       "array([[104570.33334254],\n",
       "       [560992.05169985]])"
      ]
     },
     "execution_count": 21,
     "metadata": {},
     "output_type": "execute_result"
    }
   ],
   "source": [
    "# Verkaufspreis einer 40qm und 80qm Wohnung vorhersagen mit dem Model\n",
    "model.predict([[20],[110]])"
   ]
  },
  {
   "cell_type": "code",
   "execution_count": 22,
   "metadata": {},
   "outputs": [],
   "source": [
    "min_x = min(df[\"Quadratmeter\"])\n",
    "max_x = max(df[\"Quadratmeter\"])\n",
    "predicted = model.predict([[min_x],[max_x]])"
   ]
  },
  {
   "cell_type": "code",
   "execution_count": 23,
   "metadata": {},
   "outputs": [
    {
     "data": {
      "image/png": "[encoded data removed]",
      "text/plain": [
       "<Figure size 432x288 with 1 Axes>"
      ]
     },
     "metadata": {
      "needs_background": "light"
     },
     "output_type": "display_data"
    }
   ],
   "source": [
    "plt.scatter(df[\"Quadratmeter\"], df[\"Verkaufspreis\"])\n",
    "plt.plot([min_x, max_x],predicted, color = \"red\")\n",
    "plt.show()"
   ]
  },
  {
   "cell_type": "code",
   "execution_count": null,
   "metadata": {},
   "outputs": [],
   "source": []
  }
 ],
 "metadata": {
  "kernelspec": {
   "display_name": "Python 3",
   "language": "python",
   "name": "python3"
  },
  "language_info": {
   "codemirror_mode": {
    "name": "ipython",
    "version": 3
   },
   "file_extension": ".py",
   "mimetype": "text/x-python",
   "name": "python",
   "nbconvert_exporter": "python",
   "pygments_lexer": "ipython3",
   "version": "3.7.4"
  }
 },
 "nbformat": 4,
 "nbformat_minor": 2
}
