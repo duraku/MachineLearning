{
 "cells": [
  {
   "cell_type": "code",
   "execution_count": 6,
   "metadata": {},
   "outputs": [
    {
     "data": {
      "text/html": [
       "<div>\n",
       "<style scoped>\n",
       "    .dataframe tbody tr th:only-of-type {\n",
       "        vertical-align: middle;\n",
       "    }\n",
       "\n",
       "    .dataframe tbody tr th {\n",
       "        vertical-align: top;\n",
       "    }\n",
       "\n",
       "    .dataframe thead th {\n",
       "        text-align: right;\n",
       "    }\n",
       "</style>\n",
       "<table border=\"1\" class=\"dataframe\">\n",
       "  <thead>\n",
       "    <tr style=\"text-align: right;\">\n",
       "      <th></th>\n",
       "      <th>Gewinn</th>\n",
       "      <th>Preis in Mio</th>\n",
       "      <th>Quadratmeter</th>\n",
       "      <th>Stadt_Berlin</th>\n",
       "      <th>Stadt_Köln</th>\n",
       "      <th>Stadt_München</th>\n",
       "    </tr>\n",
       "  </thead>\n",
       "  <tbody>\n",
       "    <tr>\n",
       "      <td>0</td>\n",
       "      <td>119000.0</td>\n",
       "      <td>21.88</td>\n",
       "      <td>3938.0</td>\n",
       "      <td>1</td>\n",
       "      <td>0</td>\n",
       "      <td>0</td>\n",
       "    </tr>\n",
       "    <tr>\n",
       "      <td>1</td>\n",
       "      <td>250000.0</td>\n",
       "      <td>27.95</td>\n",
       "      <td>3986.0</td>\n",
       "      <td>0</td>\n",
       "      <td>0</td>\n",
       "      <td>1</td>\n",
       "    </tr>\n",
       "    <tr>\n",
       "      <td>2</td>\n",
       "      <td>250000.0</td>\n",
       "      <td>16.09</td>\n",
       "      <td>2574.0</td>\n",
       "      <td>0</td>\n",
       "      <td>1</td>\n",
       "      <td>0</td>\n",
       "    </tr>\n",
       "    <tr>\n",
       "      <td>3</td>\n",
       "      <td>145000.0</td>\n",
       "      <td>27.58</td>\n",
       "      <td>4155.0</td>\n",
       "      <td>0</td>\n",
       "      <td>0</td>\n",
       "      <td>1</td>\n",
       "    </tr>\n",
       "    <tr>\n",
       "      <td>4</td>\n",
       "      <td>110000.0</td>\n",
       "      <td>23.76</td>\n",
       "      <td>3795.0</td>\n",
       "      <td>1</td>\n",
       "      <td>0</td>\n",
       "      <td>0</td>\n",
       "    </tr>\n",
       "  </tbody>\n",
       "</table>\n",
       "</div>"
      ],
      "text/plain": [
       "     Gewinn  Preis in Mio  Quadratmeter  Stadt_Berlin  Stadt_Köln  \\\n",
       "0  119000.0         21.88        3938.0             1           0   \n",
       "1  250000.0         27.95        3986.0             0           0   \n",
       "2  250000.0         16.09        2574.0             0           1   \n",
       "3  145000.0         27.58        4155.0             0           0   \n",
       "4  110000.0         23.76        3795.0             1           0   \n",
       "\n",
       "   Stadt_München  \n",
       "0              0  \n",
       "1              1  \n",
       "2              0  \n",
       "3              1  \n",
       "4              0  "
      ]
     },
     "execution_count": 6,
     "metadata": {},
     "output_type": "execute_result"
    }
   ],
   "source": [
    "import pandas as pd\n",
    "\n",
    "df = pd.read_csv(\"hotels.csv\")\n",
    "\n",
    "# hot endcoding\n",
    "# es kann auch eine zweite Spalte hinzugefügt werden\n",
    "df = pd.get_dummies(df, columns = [\"Stadt\"])\n",
    "\n",
    "df.head()"
   ]
  },
  {
   "cell_type": "code",
   "execution_count": 9,
   "metadata": {},
   "outputs": [],
   "source": [
    "Y = df[[\"Preis in Mio\"]].values"
   ]
  },
  {
   "cell_type": "code",
   "execution_count": 10,
   "metadata": {},
   "outputs": [],
   "source": [
    "X = df[[\"Gewinn\", \"Quadratmeter\", \"Stadt_Berlin\", \"Stadt_Köln\" ]].values\n",
    "\n",
    "# Option 2: Angeben welche Spalten ich nicht in X haben möchte\n",
    "# axis = 1 bedeutet, dass die Spalten gemeint sind und nicht die Daten\n",
    "# df.drop(labels = [\"Preis in Mio\", \"Stadt_München\"], axis = 1).values"
   ]
  },
  {
   "cell_type": "code",
   "execution_count": 12,
   "metadata": {},
   "outputs": [],
   "source": [
    "from sklearn.model_selection import train_test_split\n",
    "\n",
    "X_train, X_test, Y_train, Y_test = train_test_split(X,Y,random_state = 0, test_size = 0.25)\n"
   ]
  },
  {
   "cell_type": "code",
   "execution_count": 21,
   "metadata": {},
   "outputs": [
    {
     "name": "stdout",
     "output_type": "stream",
     "text": [
      "0.9688135511825554\n"
     ]
    }
   ],
   "source": [
    "from sklearn.linear_model import LinearRegression\n",
    "\n",
    "model = LinearRegression()\n",
    "model.fit(X_train, Y_train)\n",
    "print(model.score(X_test, Y_test))"
   ]
  },
  {
   "cell_type": "code",
   "execution_count": 14,
   "metadata": {},
   "outputs": [
    {
     "data": {
      "text/plain": [
       "array([9.40053308])"
      ]
     },
     "execution_count": 14,
     "metadata": {},
     "output_type": "execute_result"
    }
   ],
   "source": [
    "model.intercept_"
   ]
  },
  {
   "cell_type": "code",
   "execution_count": 15,
   "metadata": {},
   "outputs": [
    {
     "data": {
      "text/plain": [
       "array([[ 1.13058247e-05,  3.88104273e-03, -3.27562421e+00,\n",
       "        -6.22584051e+00]])"
      ]
     },
     "execution_count": 15,
     "metadata": {},
     "output_type": "execute_result"
    }
   ],
   "source": [
    "model.coef_"
   ]
  },
  {
   "cell_type": "code",
   "execution_count": 16,
   "metadata": {},
   "outputs": [],
   "source": [
    "y_test_pred = model.predict(X_test)"
   ]
  },
  {
   "cell_type": "code",
   "execution_count": 17,
   "metadata": {},
   "outputs": [
    {
     "data": {
      "text/plain": [
       "array([[12.41597153],\n",
       "       [19.19947954],\n",
       "       [13.35531611],\n",
       "       [22.69855257],\n",
       "       [ 9.74139023],\n",
       "       [19.06303564],\n",
       "       [13.67759284],\n",
       "       [ 8.28501804],\n",
       "       [11.25996164],\n",
       "       [34.35669491],\n",
       "       [15.27357954],\n",
       "       [24.76472822],\n",
       "       [19.76279774],\n",
       "       [20.72695211],\n",
       "       [11.63318352],\n",
       "       [ 9.11331588],\n",
       "       [24.75614907],\n",
       "       [ 6.60126521],\n",
       "       [ 8.12758181],\n",
       "       [14.80670207],\n",
       "       [26.4886448 ],\n",
       "       [ 6.83379047],\n",
       "       [21.88077617],\n",
       "       [25.07254146],\n",
       "       [17.21346067],\n",
       "       [14.05074815],\n",
       "       [24.72783812],\n",
       "       [32.0683791 ],\n",
       "       [17.08349008],\n",
       "       [15.55283523],\n",
       "       [ 7.53294106],\n",
       "       [ 9.14571343],\n",
       "       [ 8.03869617],\n",
       "       [ 6.73041053],\n",
       "       [13.15861222],\n",
       "       [ 9.80925593],\n",
       "       [17.34738095],\n",
       "       [15.27596273]])"
      ]
     },
     "execution_count": 17,
     "metadata": {},
     "output_type": "execute_result"
    }
   ],
   "source": [
    "y_test_pred"
   ]
  },
  {
   "cell_type": "code",
   "execution_count": 18,
   "metadata": {},
   "outputs": [
    {
     "data": {
      "text/plain": [
       "array([[14.56],\n",
       "       [16.32],\n",
       "       [13.09],\n",
       "       [22.87],\n",
       "       [ 8.94],\n",
       "       [19.13],\n",
       "       [13.77],\n",
       "       [ 9.63],\n",
       "       [10.41],\n",
       "       [32.78],\n",
       "       [12.98],\n",
       "       [23.6 ],\n",
       "       [20.27],\n",
       "       [21.26],\n",
       "       [13.86],\n",
       "       [ 9.76],\n",
       "       [24.81],\n",
       "       [ 6.62],\n",
       "       [ 8.69],\n",
       "       [14.16],\n",
       "       [28.49],\n",
       "       [ 6.95],\n",
       "       [22.4 ],\n",
       "       [24.87],\n",
       "       [16.94],\n",
       "       [15.54],\n",
       "       [24.78],\n",
       "       [30.14],\n",
       "       [16.15],\n",
       "       [17.75],\n",
       "       [ 7.91],\n",
       "       [ 7.98],\n",
       "       [ 6.73],\n",
       "       [ 6.3 ],\n",
       "       [13.21],\n",
       "       [10.94],\n",
       "       [19.59],\n",
       "       [15.18]])"
      ]
     },
     "execution_count": 18,
     "metadata": {},
     "output_type": "execute_result"
    }
   ],
   "source": [
    "Y_test"
   ]
  },
  {
   "cell_type": "code",
   "execution_count": 19,
   "metadata": {},
   "outputs": [
    {
     "name": "stdout",
     "output_type": "stream",
     "text": [
      "12.415971534332172 - 14.56\n",
      "19.199479543360034 - 16.32\n",
      "13.355316105244698 - 13.09\n",
      "22.69855256704227 - 22.87\n",
      "9.741390230261354 - 8.94\n",
      "19.06303564404496 - 19.13\n",
      "13.67759283537859 - 13.77\n",
      "8.285018043138788 - 9.63\n",
      "11.25996163994101 - 10.41\n",
      "34.356694913034474 - 32.78\n",
      "15.273579543006084 - 12.98\n",
      "24.76472822436429 - 23.6\n",
      "19.76279774237404 - 20.27\n",
      "20.726952109338256 - 21.26\n",
      "11.633183516483548 - 13.86\n",
      "9.11331587623736 - 9.76\n",
      "24.75614907441483 - 24.81\n",
      "6.601265212534453 - 6.62\n",
      "8.127581808723562 - 8.69\n",
      "14.806702066793482 - 14.16\n",
      "26.488644800581863 - 28.49\n",
      "6.833790473044253 - 6.95\n",
      "21.88077616938599 - 22.4\n",
      "25.072541461222947 - 24.87\n",
      "17.213460673433353 - 16.94\n",
      "14.0507481486726 - 15.54\n",
      "24.727838117863847 - 24.78\n",
      "32.06837909726073 - 30.14\n",
      "17.083490084664714 - 16.15\n",
      "15.55283522532317 - 17.75\n",
      "7.532941063626385 - 7.91\n",
      "9.145713432256755 - 7.98\n",
      "8.03869617063201 - 6.73\n",
      "6.730410528570588 - 6.3\n",
      "13.158612223070074 - 13.21\n",
      "9.809255927033025 - 10.94\n",
      "17.347380952412113 - 19.59\n",
      "15.275962725832567 - 15.18\n"
     ]
    }
   ],
   "source": [
    "# Durchläuft die predicted Daten und gibt vorhandenen Elemente\n",
    "\n",
    "for i in range(0,len(y_test_pred)):\n",
    "   print (str(y_test_pred[i][0]) + \" - \" + str(Y_test[i][0]))"
   ]
  },
  {
   "cell_type": "code",
   "execution_count": 20,
   "metadata": {},
   "outputs": [
    {
     "name": "stdout",
     "output_type": "stream",
     "text": [
      "0.9688135511825554\n"
     ]
    }
   ],
   "source": []
  },
  {
   "cell_type": "code",
   "execution_count": null,
   "metadata": {},
   "outputs": [],
   "source": []
  }
 ],
 "metadata": {
  "kernelspec": {
   "display_name": "Python 3",
   "language": "python",
   "name": "python3"
  },
  "language_info": {
   "codemirror_mode": {
    "name": "ipython",
    "version": 3
   },
   "file_extension": ".py",
   "mimetype": "text/x-python",
   "name": "python",
   "nbconvert_exporter": "python",
   "pygments_lexer": "ipython3",
   "version": "3.7.4"
  }
 },
 "nbformat": 4,
 "nbformat_minor": 2
}
