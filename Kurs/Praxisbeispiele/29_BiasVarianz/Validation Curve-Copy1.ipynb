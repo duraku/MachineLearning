{
 "cells": [
  {
   "cell_type": "code",
   "execution_count": 2,
   "metadata": {},
   "outputs": [
    {
     "data": {
      "text/html": [
       "<div>\n",
       "<style scoped>\n",
       "    .dataframe tbody tr th:only-of-type {\n",
       "        vertical-align: middle;\n",
       "    }\n",
       "\n",
       "    .dataframe tbody tr th {\n",
       "        vertical-align: top;\n",
       "    }\n",
       "\n",
       "    .dataframe thead th {\n",
       "        text-align: right;\n",
       "    }\n",
       "</style>\n",
       "<table border=\"1\" class=\"dataframe\">\n",
       "  <thead>\n",
       "    <tr style=\"text-align: right;\">\n",
       "      <th></th>\n",
       "      <th>age</th>\n",
       "      <th>interest</th>\n",
       "      <th>success</th>\n",
       "    </tr>\n",
       "  </thead>\n",
       "  <tbody>\n",
       "    <tr>\n",
       "      <td>0</td>\n",
       "      <td>23.657801</td>\n",
       "      <td>18.859917</td>\n",
       "      <td>0.0</td>\n",
       "    </tr>\n",
       "    <tr>\n",
       "      <td>1</td>\n",
       "      <td>22.573729</td>\n",
       "      <td>17.969223</td>\n",
       "      <td>0.0</td>\n",
       "    </tr>\n",
       "    <tr>\n",
       "      <td>2</td>\n",
       "      <td>32.553424</td>\n",
       "      <td>29.463651</td>\n",
       "      <td>0.0</td>\n",
       "    </tr>\n",
       "    <tr>\n",
       "      <td>3</td>\n",
       "      <td>6.718035</td>\n",
       "      <td>25.704665</td>\n",
       "      <td>1.0</td>\n",
       "    </tr>\n",
       "    <tr>\n",
       "      <td>4</td>\n",
       "      <td>14.401919</td>\n",
       "      <td>16.770856</td>\n",
       "      <td>0.0</td>\n",
       "    </tr>\n",
       "  </tbody>\n",
       "</table>\n",
       "</div>"
      ],
      "text/plain": [
       "         age   interest  success\n",
       "0  23.657801  18.859917      0.0\n",
       "1  22.573729  17.969223      0.0\n",
       "2  32.553424  29.463651      0.0\n",
       "3   6.718035  25.704665      1.0\n",
       "4  14.401919  16.770856      0.0"
      ]
     },
     "execution_count": 2,
     "metadata": {},
     "output_type": "execute_result"
    }
   ],
   "source": [
    "import pandas as pd\n",
    "\n",
    "df = pd.read_csv(\"classification.csv\")\n",
    "\n",
    "df.head()"
   ]
  },
  {
   "cell_type": "code",
   "execution_count": 4,
   "metadata": {},
   "outputs": [],
   "source": [
    "X = df[[\"age\", \"interest\"]].values\n",
    "Y = df[\"success\"].values"
   ]
  },
  {
   "cell_type": "code",
   "execution_count": 5,
   "metadata": {},
   "outputs": [],
   "source": [
    "import helper"
   ]
  },
  {
   "cell_type": "code",
   "execution_count": 7,
   "metadata": {},
   "outputs": [
    {
     "name": "stderr",
     "output_type": "stream",
     "text": [
      "/Users/blertaduraku/opt/anaconda3/lib/python3.7/site-packages/sklearn/model_selection/_split.py:1978: FutureWarning: The default value of cv will change from 3 to 5 in version 0.22. Specify it explicitly to silence this warning.\n",
      "  warnings.warn(CV_WARNING, FutureWarning)\n"
     ]
    }
   ],
   "source": [
    "from sklearn.model_selection import validation_curve\n",
    "from sklearn.neighbors import KNeighborsClassifier\n",
    "\n",
    "import numpy as np\n",
    "\n",
    "# Parameter für k (Wie viele Nachbarn betrachtet werden sollen)\n",
    "param_range = np.array([40, 30, 20, 15, 10, 8, 7, 6, 5, 4, 3, 2, 1])\n",
    "\n",
    "# n_neighbors bestimmt wie viele Nachbarn sich der Algorithmus anschauen soll\n",
    "train_scores, test_scores = validation_curve(\n",
    "    KNeighborsClassifier(),\n",
    "    X,\n",
    "    Y,\n",
    "    param_name = \"n_neighbors\",\n",
    "    param_range = param_range)"
   ]
  },
  {
   "cell_type": "code",
   "execution_count": 11,
   "metadata": {},
   "outputs": [
    {
     "name": "stdout",
     "output_type": "stream",
     "text": [
      "[[0.88832487 0.88888889 0.85929648]\n",
      " [0.89847716 0.9040404  0.87939698]\n",
      " [0.9035533  0.92929293 0.91959799]\n",
      " [0.92385787 0.94949495 0.92964824]\n",
      " [0.93908629 0.93939394 0.92462312]\n",
      " [0.94416244 0.94949495 0.91959799]\n",
      " [0.94416244 0.94444444 0.92462312]\n",
      " [0.93401015 0.94949495 0.92964824]\n",
      " [0.93401015 0.94444444 0.93969849]\n",
      " [0.92893401 0.93939394 0.93969849]\n",
      " [0.94923858 0.95959596 0.94974874]\n",
      " [0.93401015 0.96969697 0.95477387]\n",
      " [1.         1.         1.        ]]\n",
      "[[0.88       0.84848485 0.90816327]\n",
      " [0.88       0.84848485 0.91836735]\n",
      " [0.89       0.88888889 0.93877551]\n",
      " [0.92       0.90909091 0.92857143]\n",
      " [0.93       0.90909091 0.90816327]\n",
      " [0.95       0.8989899  0.90816327]\n",
      " [0.95       0.88888889 0.90816327]\n",
      " [0.94       0.88888889 0.89795918]\n",
      " [0.96       0.88888889 0.90816327]\n",
      " [0.94       0.91919192 0.86734694]\n",
      " [0.95       0.92929293 0.87755102]\n",
      " [0.94       0.88888889 0.83673469]\n",
      " [0.94       0.87878788 0.89795918]]\n"
     ]
    }
   ],
   "source": [
    "# führt eine KCross Validation aus, teilt die Daten automatisch in 3 Sätze mit jeweils Trainings und Testdaten auf\n",
    "\n",
    "print(train_scores)\n",
    "print(test_scores)"
   ]
  },
  {
   "cell_type": "code",
   "execution_count": 8,
   "metadata": {},
   "outputs": [
    {
     "data": {
      "image/png": "[encoded data removed]",
      "text/plain": [
       "<Figure size 432x288 with 1 Axes>"
      ]
     },
     "metadata": {
      "image/png": {
       "height": 248,
       "width": 381
      },
      "needs_background": "light"
     },
     "output_type": "display_data"
    }
   ],
   "source": [
    "%matplotlib inline\n",
    "\n",
    "import matplotlib.pyplot as plt\n",
    "\n",
    "# np.mean bedeutet, dass er den durschnittlichen Score nimmt von den 3 Modellen\n",
    "plt.plot(param_range, np.mean(train_scores, axis = 1))\n",
    "plt.plot(param_range, np.mean(test_scores, axis = 1))\n",
    "\n",
    "# Hiermit drehen wir die X_Achse um, sie geht jetzt von 40 bis 1\n",
    "plt.xlim(np.max(param_range), 0)\n",
    "\n",
    "plt.show()"
   ]
  },
  {
   "cell_type": "code",
   "execution_count": null,
   "metadata": {},
   "outputs": [],
   "source": []
  }
 ],
 "metadata": {
  "kernelspec": {
   "display_name": "Python 3",
   "language": "python",
   "name": "python3"
  },
  "language_info": {
   "codemirror_mode": {
    "name": "ipython",
    "version": 3
   },
   "file_extension": ".py",
   "mimetype": "text/x-python",
   "name": "python",
   "nbconvert_exporter": "python",
   "pygments_lexer": "ipython3",
   "version": "3.7.4"
  }
 },
 "nbformat": 4,
 "nbformat_minor": 4
}
