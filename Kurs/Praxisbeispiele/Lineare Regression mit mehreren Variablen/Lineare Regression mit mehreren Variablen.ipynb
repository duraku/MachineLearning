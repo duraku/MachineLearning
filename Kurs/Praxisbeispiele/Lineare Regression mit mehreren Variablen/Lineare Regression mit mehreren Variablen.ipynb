{
 "cells": [
  {
   "cell_type": "code",
   "execution_count": 30,
   "metadata": {},
   "outputs": [
    {
     "data": {
      "text/html": [
       "<div>\n",
       "<style scoped>\n",
       "    .dataframe tbody tr th:only-of-type {\n",
       "        vertical-align: middle;\n",
       "    }\n",
       "\n",
       "    .dataframe tbody tr th {\n",
       "        vertical-align: top;\n",
       "    }\n",
       "\n",
       "    .dataframe thead th {\n",
       "        text-align: right;\n",
       "    }\n",
       "</style>\n",
       "<table border=\"1\" class=\"dataframe\">\n",
       "  <thead>\n",
       "    <tr style=\"text-align: right;\">\n",
       "      <th></th>\n",
       "      <th>Gewinn</th>\n",
       "      <th>Preis in Mio</th>\n",
       "      <th>Quadratmeter</th>\n",
       "      <th>Stadt</th>\n",
       "    </tr>\n",
       "  </thead>\n",
       "  <tbody>\n",
       "    <tr>\n",
       "      <td>0</td>\n",
       "      <td>119000.0</td>\n",
       "      <td>21.88</td>\n",
       "      <td>3938.0</td>\n",
       "      <td>Berlin</td>\n",
       "    </tr>\n",
       "    <tr>\n",
       "      <td>1</td>\n",
       "      <td>250000.0</td>\n",
       "      <td>27.95</td>\n",
       "      <td>3986.0</td>\n",
       "      <td>München</td>\n",
       "    </tr>\n",
       "    <tr>\n",
       "      <td>2</td>\n",
       "      <td>250000.0</td>\n",
       "      <td>16.09</td>\n",
       "      <td>2574.0</td>\n",
       "      <td>Köln</td>\n",
       "    </tr>\n",
       "    <tr>\n",
       "      <td>3</td>\n",
       "      <td>145000.0</td>\n",
       "      <td>27.58</td>\n",
       "      <td>4155.0</td>\n",
       "      <td>München</td>\n",
       "    </tr>\n",
       "    <tr>\n",
       "      <td>4</td>\n",
       "      <td>110000.0</td>\n",
       "      <td>23.76</td>\n",
       "      <td>3795.0</td>\n",
       "      <td>Berlin</td>\n",
       "    </tr>\n",
       "  </tbody>\n",
       "</table>\n",
       "</div>"
      ],
      "text/plain": [
       "     Gewinn  Preis in Mio  Quadratmeter    Stadt\n",
       "0  119000.0         21.88        3938.0   Berlin\n",
       "1  250000.0         27.95        3986.0  München\n",
       "2  250000.0         16.09        2574.0     Köln\n",
       "3  145000.0         27.58        4155.0  München\n",
       "4  110000.0         23.76        3795.0   Berlin"
      ]
     },
     "execution_count": 30,
     "metadata": {},
     "output_type": "execute_result"
    }
   ],
   "source": [
    "import pandas as pd\n",
    "df = pd.read_csv(\"hotels.csv\")\n",
    "df.head()"
   ]
  },
  {
   "cell_type": "code",
   "execution_count": 31,
   "metadata": {},
   "outputs": [],
   "source": [
    "x = df[[\"Gewinn\", \"Quadratmeter\"]].values\n",
    "y = df[[\"Preis in Mio\"]].values"
   ]
  },
  {
   "cell_type": "code",
   "execution_count": 32,
   "metadata": {},
   "outputs": [],
   "source": [
    "from sklearn.model_selection import train_test_split\n",
    "\n",
    "x_train, x_test, y_train, y_test = train_test_split(x,y,random_state = 0, test_size = 0.25)"
   ]
  },
  {
   "cell_type": "code",
   "execution_count": 33,
   "metadata": {},
   "outputs": [
    {
     "data": {
      "text/plain": [
       "LinearRegression(copy_X=True, fit_intercept=True, n_jobs=None, normalize=False)"
      ]
     },
     "execution_count": 33,
     "metadata": {},
     "output_type": "execute_result"
    }
   ],
   "source": [
    "from sklearn.linear_model import LinearRegression\n",
    "\n",
    "model = LinearRegression()\n",
    "model.fit(x_train, y_train)"
   ]
  },
  {
   "cell_type": "code",
   "execution_count": 34,
   "metadata": {},
   "outputs": [
    {
     "data": {
      "text/plain": [
       "array([6.48370247])"
      ]
     },
     "execution_count": 34,
     "metadata": {},
     "output_type": "execute_result"
    }
   ],
   "source": [
    "model.intercept_"
   ]
  },
  {
   "cell_type": "code",
   "execution_count": 35,
   "metadata": {},
   "outputs": [
    {
     "data": {
      "text/plain": [
       "array([[6.39855984e-06, 3.89642288e-03]])"
      ]
     },
     "execution_count": 35,
     "metadata": {},
     "output_type": "execute_result"
    }
   ],
   "source": [
    "# print coef von Gewinn und Quadratmeter\n",
    "\n",
    "model.coef_"
   ]
  },
  {
   "cell_type": "code",
   "execution_count": 36,
   "metadata": {},
   "outputs": [],
   "source": [
    "# 6.48370247 + Gewinn * 6.39855984e-06 + Quadratmeter * 3.89642288e-03"
   ]
  },
  {
   "cell_type": "code",
   "execution_count": 37,
   "metadata": {},
   "outputs": [],
   "source": [
    "y_test_pred = model.predict(x_test)"
   ]
  },
  {
   "cell_type": "code",
   "execution_count": 38,
   "metadata": {},
   "outputs": [
    {
     "data": {
      "text/plain": [
       "array([[15.48428777],\n",
       "       [19.25848937],\n",
       "       [13.05937756],\n",
       "       [25.49068515],\n",
       "       [ 6.81600627],\n",
       "       [21.62782213],\n",
       "       [13.89794657],\n",
       "       [11.48552582],\n",
       "       [13.36299543],\n",
       "       [30.30074569],\n",
       "       [14.54450876],\n",
       "       [24.78636769],\n",
       "       [22.51853591],\n",
       "       [17.36475207],\n",
       "       [14.6587811 ],\n",
       "       [ 9.37005463],\n",
       "       [21.41982044],\n",
       "       [ 6.94709036],\n",
       "       [11.35222603],\n",
       "       [17.65669735],\n",
       "       [29.27103676],\n",
       "       [ 7.17558502],\n",
       "       [21.88603479],\n",
       "       [21.65328149],\n",
       "       [19.90957541],\n",
       "       [16.73928148],\n",
       "       [27.34973807],\n",
       "       [28.53818494],\n",
       "       [13.89007794],\n",
       "       [12.50191932],\n",
       "       [10.68589983],\n",
       "       [ 9.42238885],\n",
       "       [10.12896444],\n",
       "       [ 9.83562033],\n",
       "       [15.90798701],\n",
       "       [13.00094789],\n",
       "       [17.32972215],\n",
       "       [18.35066072]])"
      ]
     },
     "execution_count": 38,
     "metadata": {},
     "output_type": "execute_result"
    }
   ],
   "source": [
    "# predicted Daten aufgrund unseres Models\n",
    "\n",
    "y_test_pred"
   ]
  },
  {
   "cell_type": "code",
   "execution_count": 39,
   "metadata": {},
   "outputs": [
    {
     "data": {
      "text/plain": [
       "array([[14.56],\n",
       "       [16.32],\n",
       "       [13.09],\n",
       "       [22.87],\n",
       "       [ 8.94],\n",
       "       [19.13],\n",
       "       [13.77],\n",
       "       [ 9.63],\n",
       "       [10.41],\n",
       "       [32.78],\n",
       "       [12.98],\n",
       "       [23.6 ],\n",
       "       [20.27],\n",
       "       [21.26],\n",
       "       [13.86],\n",
       "       [ 9.76],\n",
       "       [24.81],\n",
       "       [ 6.62],\n",
       "       [ 8.69],\n",
       "       [14.16],\n",
       "       [28.49],\n",
       "       [ 6.95],\n",
       "       [22.4 ],\n",
       "       [24.87],\n",
       "       [16.94],\n",
       "       [15.54],\n",
       "       [24.78],\n",
       "       [30.14],\n",
       "       [16.15],\n",
       "       [17.75],\n",
       "       [ 7.91],\n",
       "       [ 7.98],\n",
       "       [ 6.73],\n",
       "       [ 6.3 ],\n",
       "       [13.21],\n",
       "       [10.94],\n",
       "       [19.59],\n",
       "       [15.18]])"
      ]
     },
     "execution_count": 39,
     "metadata": {},
     "output_type": "execute_result"
    }
   ],
   "source": [
    "# tatsächliche Daten (Testdaten)\n",
    "y_test"
   ]
  },
  {
   "cell_type": "code",
   "execution_count": 40,
   "metadata": {},
   "outputs": [
    {
     "name": "stdout",
     "output_type": "stream",
     "text": [
      "15.484287770456307 - 14.56\n",
      "19.25848936697959 - 16.32\n",
      "13.059377556544968 - 13.09\n",
      "25.49068515406285 - 22.87\n",
      "6.816006267056254 - 8.94\n",
      "21.62782212809594 - 19.13\n",
      "13.89794656549663 - 13.77\n",
      "11.48552582135802 - 9.63\n",
      "13.362995432755914 - 10.41\n",
      "30.30074569339602 - 32.78\n",
      "14.544508758730888 - 12.98\n",
      "24.786367694531798 - 23.6\n",
      "22.5185359125309 - 20.27\n",
      "17.364752070043465 - 21.26\n",
      "14.658781101070204 - 13.86\n",
      "9.370054632254533 - 9.76\n",
      "21.419820437400862 - 24.81\n",
      "6.947090359060697 - 6.62\n",
      "11.352226027295268 - 8.69\n",
      "17.656697351169136 - 14.16\n",
      "29.271036764081234 - 28.49\n",
      "7.175585023072502 - 6.95\n",
      "21.886034785667135 - 22.4\n",
      "21.653281486765614 - 24.87\n",
      "19.90957541499908 - 16.94\n",
      "16.73928147636494 - 15.54\n",
      "27.349738072086634 - 24.78\n",
      "28.538184939132954 - 30.14\n",
      "13.890077942623035 - 16.15\n",
      "12.501919323322051 - 17.75\n",
      "10.68589982620841 - 7.91\n",
      "9.422388850520345 - 7.98\n",
      "10.128964442111496 - 6.73\n",
      "9.835620333614969 - 6.3\n",
      "15.907987005493151 - 13.21\n",
      "13.00094788689616 - 10.94\n",
      "17.329722152677313 - 19.59\n",
      "18.350660724427478 - 15.18\n"
     ]
    }
   ],
   "source": [
    "# Durchläuft die predicted Daten und gibt vorhandenen Elemente\n",
    "\n",
    "for i in range(0,len(y_test_pred)):\n",
    "   print (str(y_test_pred[i][0]) + \" - \" + str(y_test[i][0]))"
   ]
  },
  {
   "cell_type": "code",
   "execution_count": null,
   "metadata": {},
   "outputs": [],
   "source": []
  }
 ],
 "metadata": {
  "kernelspec": {
   "display_name": "Python 3",
   "language": "python",
   "name": "python3"
  },
  "language_info": {
   "codemirror_mode": {
    "name": "ipython",
    "version": 3
   },
   "file_extension": ".py",
   "mimetype": "text/x-python",
   "name": "python",
   "nbconvert_exporter": "python",
   "pygments_lexer": "ipython3",
   "version": "3.7.4"
  }
 },
 "nbformat": 4,
 "nbformat_minor": 2
}
